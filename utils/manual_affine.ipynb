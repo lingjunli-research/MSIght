{
 "cells": [
  {
   "cell_type": "code",
   "execution_count": null,
   "id": "bdf01949-15a5-426c-8776-84ebfc0dbe25",
   "metadata": {},
   "outputs": [],
   "source": [
    "import plotly.express as px\n",
    "\n",
    "def show_msi_he_coords(final_MSI_image,final_he_image):\n",
    "    fig = px.imshow(final_MSI_image,title='MSI Image')\n",
    "    fig.show()\n",
    "\n",
    "    #rotated_array = np.rot90(cropped_image)\n",
    "    rotated_array = final_he_image\n",
    "    fig = px.imshow(rotated_array,title='H&E Image')\n",
    "    fig.show()"
   ]
  },
  {
   "cell_type": "code",
   "execution_count": null,
   "id": "9175f76c-9f4d-478d-867b-896eeb769749",
   "metadata": {},
   "outputs": [],
   "source": [
    "import cv2\n",
    "import matplotlib.pyplot as plt\n",
    "\n",
    "def manual_register_he_msi(pts_ms, pts_he,resized_msi_image,cropped_image,output_directory,sample_name):\n",
    "    # Compute the affine transformation matrix\n",
    "    M, inliers = cv2.estimateAffinePartial2D(pts_ms, pts_he)\n",
    "    # Assume ms_image and he_image are your numpy arrays representing the images\n",
    "    transformed_ms_image = cv2.warpAffine(resized_msi_image, M, (cropped_image.shape[1], cropped_image.shape[0]))\n",
    "\n",
    "    plt.imshow(cropped_image)\n",
    "    plt.title('Cropped, smoothed H&E image')\n",
    "    plt.show()\n",
    "\n",
    "    plt.imshow(resized_msi_image)\n",
    "    plt.title('Interpolated MSI image')\n",
    "    plt.show()\n",
    "\n",
    "    plt.imshow(transformed_ms_image)\n",
    "    plt.title('Transformed image')\n",
    "    fig_outpath = output_directory + '\\\\' + sample_name + '_manual_affine_transformed_MSI.png'\n",
    "    plt.savefig(fig_outpath,bbox_inches='tight')\n",
    "\n",
    "    transformed_ms_image = transformed_ms_image.astype(cropped_image.dtype)\n",
    "    \n",
    "    return M"
   ]
  }
 ],
 "metadata": {
  "kernelspec": {
   "display_name": "Python 3 (ipykernel)",
   "language": "python",
   "name": "python3"
  },
  "language_info": {
   "codemirror_mode": {
    "name": "ipython",
    "version": 3
   },
   "file_extension": ".py",
   "mimetype": "text/x-python",
   "name": "python",
   "nbconvert_exporter": "python",
   "pygments_lexer": "ipython3",
   "version": "3.9.17"
  },
  "widgets": {
   "application/vnd.jupyter.widget-state+json": {
    "state": {},
    "version_major": 2,
    "version_minor": 0
   }
  }
 },
 "nbformat": 4,
 "nbformat_minor": 5
}
