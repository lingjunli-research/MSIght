{
 "cells": [
  {
   "cell_type": "code",
   "execution_count": null,
   "id": "68e78e02-2161-47db-b11b-038e852ecf5b",
   "metadata": {},
   "outputs": [],
   "source": [
    "import pyimzml.ImzMLParser\n",
    "from pyimzml.ImzMLParser import getionimage\n",
    "import plotly.express as px\n",
    "import cv2\n",
    "import SimpleITK as sitk\n",
    "import numpy as np\n",
    "import matplotlib.pyplot as plt\n",
    "\n",
    "def apply_bspline_transform_to_msi(b_spline_transform, msi_data_image):\n",
    "    msi_image_sitk = sitk.GetImageFromArray(msi_data_image.astype(np.float32))\n",
    "    \n",
    "    # Apply the B-spline transformation using SimpleITK's ResampleImageFilter\n",
    "    resampler = sitk.ResampleImageFilter()\n",
    "    resampler.SetReferenceImage(msi_image_sitk)  # Use the MSI image's properties\n",
    "    resampler.SetInterpolator(sitk.sitkLinear)\n",
    "    resampler.SetTransform(b_spline_transform)\n",
    "    resampler.SetDefaultPixelValue(0)\n",
    "    \n",
    "    # Perform the resampling\n",
    "    transformed_msi_image_sitk = resampler.Execute(msi_image_sitk)\n",
    "    \n",
    "    # Convert the transformed MSI image back to a numpy array\n",
    "    transformed_msi_image = sitk.GetArrayFromImage(transformed_msi_image_sitk)\n",
    "\n",
    "    return transformed_msi_image\n",
    "\n",
    "def extract_mz_image_transform(filename, mz, mz_tolerance, z_value, b_spline_apply, sized_he_image):\n",
    "    parser = pyimzml.ImzMLParser.ImzMLParser(filename)\n",
    "    mz_img = getionimage(parser, mz, tol=mz_tolerance, z=z_value,reduce_func=sum) # img stored as 2D numpy array\n",
    "    fig = px.imshow(mz_img,title='MSI image @ m/z ' + str(mz))\n",
    "\n",
    "    dimensions = sized_he_image.shape\n",
    "\n",
    "    x_dimension = dimensions[1]\n",
    "    y_dimension = dimensions[0]\n",
    "\n",
    "    # Resize MSI image to match dimensions of microscopy image\n",
    "    resized_msi_mz_image = cv2.resize(mz_img, (x_dimension,y_dimension), interpolation=cv2.INTER_LINEAR)\n",
    "\n",
    "    msi_result = apply_bspline_transform_to_msi(b_spline_apply, resized_msi_mz_image)\n",
    "\n",
    "    return msi_result"
   ]
  },
  {
   "cell_type": "code",
   "execution_count": null,
   "id": "38f2ff77-046a-4bea-ad41-ad796d2beb8a",
   "metadata": {},
   "outputs": [],
   "source": [
    "def overlay_msi_he(msi_result,sized_he_image,mz):\n",
    "    msi_result = msi_result.astype(sized_he_image.dtype)\n",
    "    overlay_mz = cv2.addWeighted(sized_he_image, 0.5, msi_result, 0.5, 0)\n",
    "    plt.imshow(overlay_mz)\n",
    "    plt.title('MSI/H&E overlay @ m/z ' + str(mz))"
   ]
  }
 ],
 "metadata": {
  "kernelspec": {
   "display_name": "Python 3 (ipykernel)",
   "language": "python",
   "name": "python3"
  },
  "language_info": {
   "codemirror_mode": {
    "name": "ipython",
    "version": 3
   },
   "file_extension": ".py",
   "mimetype": "text/x-python",
   "name": "python",
   "nbconvert_exporter": "python",
   "pygments_lexer": "ipython3",
   "version": "3.9.17"
  },
  "widgets": {
   "application/vnd.jupyter.widget-state+json": {
    "state": {},
    "version_major": 2,
    "version_minor": 0
   }
  }
 },
 "nbformat": 4,
 "nbformat_minor": 5
}
