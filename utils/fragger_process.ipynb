{
 "cells": [
  {
   "cell_type": "code",
   "execution_count": null,
   "id": "bdfef946-56a8-4fc0-a21d-6264e67e33d6",
   "metadata": {},
   "outputs": [],
   "source": [
    "import pandas as pd\n",
    "def process_fragger(protein_oi_list,ppm_error,psm_path,sized_he_image,output_path):\n",
    "    psm_report = pd.read_table(psm_path)\n",
    "    filtered_psm_report = psm_report[psm_report['Is Unique'] == True]\n",
    "    mass_h = 1.00784\n",
    "\n",
    "    prot_storage = []\n",
    "    num_unique_pep_storage = []\n",
    "    pep_storage = []\n",
    "    pep_mass_storage = []\n",
    "    pep_mz_z1_storage = []\n",
    "    da_err_threshold_storage = []\n",
    "    ppm_err_threshold_storage = []\n",
    "    scan_storage = []\n",
    "\n",
    "    for a in protein_oi_list:\n",
    "        filtered_protein_psm_report = filtered_psm_report[filtered_psm_report['Protein ID'] == a]\n",
    "        number_unique_peptides = len(filtered_protein_psm_report.drop_duplicates(subset=['Peptide']))\n",
    "        #print('# Unique Peptides: ' + str(number_unique_peptides))\n",
    "\n",
    "        calc_mass_filter = filtered_protein_psm_report.drop_duplicates(subset=['Calculated Peptide Mass'])\n",
    "\n",
    "        for line in range(0,len(calc_mass_filter)):\n",
    "            peptide = calc_mass_filter['Peptide'].iloc[line]\n",
    "            pep_mass = calc_mass_filter['Calculated Peptide Mass'].iloc[line]\n",
    "            scan = calc_mass_filter['Spectrum'].iloc[line]\n",
    "\n",
    "            da_err_equiv = abs(((ppm_error / 1000000) * pep_mass) - pep_mass)\n",
    "            da_err_equiv = round(da_err_equiv,2)\n",
    "            da_error = pep_mass - da_err_equiv\n",
    "            da_error = round(da_error,2)\n",
    "            prot_storage.append(a)\n",
    "            num_unique_pep_storage.append(number_unique_peptides)\n",
    "            pep_storage.append(peptide)\n",
    "            pep_mass_storage.append(pep_mass)\n",
    "            pep_mz_z1_storage.append(mass_h + pep_mass)\n",
    "            da_err_threshold_storage.append(da_error)\n",
    "            ppm_err_threshold_storage.append(ppm_error)\n",
    "            scan_storage.append(scan)\n",
    "\n",
    "        fragger_results_summary = pd.DataFrame()\n",
    "        fragger_results_summary['Protein Name'] = prot_storage\n",
    "        fragger_results_summary['# Unique Peptides'] = num_unique_pep_storage\n",
    "        fragger_results_summary['Peptide'] = pep_storage\n",
    "        fragger_results_summary['Peptide Theoretical Mass'] = pep_mass_storage\n",
    "        fragger_results_summary['Peptide Theoretical m/z (+1)'] = pep_mz_z1_storage\n",
    "        fragger_results_summary['ppm Error Threshold'] = ppm_err_threshold_storage\n",
    "        fragger_results_summary['Calc. Da Error Threshold'] = da_err_threshold_storage\n",
    "        fragger_results_summary['LC-MS/MS Scan'] = scan_storage\n",
    "\n",
    "        output_path_report = output_path + '\\\\results_for_MSIght_other2Col.csv'\n",
    "        fragger_results_summary.to_csv(output_path_report, index=False)\n",
    "        return output_path_report"
   ]
  }
 ],
 "metadata": {
  "kernelspec": {
   "display_name": "Python 3 (ipykernel)",
   "language": "python",
   "name": "python3"
  },
  "language_info": {
   "codemirror_mode": {
    "name": "ipython",
    "version": 3
   },
   "file_extension": ".py",
   "mimetype": "text/x-python",
   "name": "python",
   "nbconvert_exporter": "python",
   "pygments_lexer": "ipython3",
   "version": "3.9.17"
  },
  "widgets": {
   "application/vnd.jupyter.widget-state+json": {
    "state": {},
    "version_major": 2,
    "version_minor": 0
   }
  }
 },
 "nbformat": 4,
 "nbformat_minor": 5
}
