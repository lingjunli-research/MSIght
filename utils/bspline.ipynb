{
 "cells": [
  {
   "cell_type": "code",
   "execution_count": null,
   "id": "50abbcf6-b074-4636-beab-72039292820e",
   "metadata": {},
   "outputs": [],
   "source": [
    "import SimpleITK as sitk\n",
    "import numpy as np\n",
    "import matplotlib.pyplot as plt\n",
    "\n",
    "\n",
    "def perform_bspline(sized_he_image,transformed_ms_image,number_histograms,gradient_tolerance,optimizer_iterations,courseness):\n",
    "    fixed_image_sitk = sitk.GetImageFromArray(sized_he_image.astype(np.float32))\n",
    "    transformed_ms_image_sitk = sitk.GetImageFromArray(transformed_ms_image.astype(np.float32))\n",
    "    fixed_image_sitk = sitk.GetImageFromArray(sized_he_image.astype(np.float32))\n",
    "    transformed_ms_image_sitk = sitk.GetImageFromArray(transformed_ms_image.astype(np.float32))\n",
    "\n",
    "    grid_physical_spacing = [courseness, courseness]  # Can be adjusted to change the courseness of the B-spline, set to like 50\n",
    "    b_spline_transform = sitk.BSplineTransformInitializer(image1=fixed_image_sitk, \n",
    "                                                          transformDomainMeshSize=[int(sz/grid) for sz, grid in zip(fixed_image_sitk.GetSize(), grid_physical_spacing)])\n",
    "    parameters = np.zeros(b_spline_transform.GetNumberOfParameters())\n",
    "    b_spline_transform.SetParameters(parameters)\n",
    "    registration_method = sitk.ImageRegistrationMethod()\n",
    "    registration_method.SetMetricAsMattesMutualInformation(numberOfHistogramBins=number_histograms) #set to like 50\n",
    "    registration_method.SetShrinkFactorsPerLevel(shrinkFactors=[4, 2, 1])\n",
    "    registration_method.SetSmoothingSigmasPerLevel(smoothingSigmas=[2, 1, 0])\n",
    "    registration_method.SmoothingSigmasAreSpecifiedInPhysicalUnitsOn()\n",
    "    registration_method.SetInitialTransform(b_spline_transform, inPlace=False)\n",
    "    registration_method.SetOptimizerAsLBFGSB(gradientConvergenceTolerance=gradient_tolerance, numberOfIterations=optimizer_iterations) #tolerance should be 1e-5, iterations 100\n",
    "    registration_method.SetOptimizerScalesFromPhysicalShift()\n",
    "    registration_method.SetInterpolator(sitk.sitkLinear)\n",
    "    final_transform = registration_method.Execute(fixed_image_sitk, transformed_ms_image_sitk)\n",
    "    \n",
    "    # Apply the final transformation to the transformed moving image (result of affine transformation)\n",
    "    final_resampler = sitk.ResampleImageFilter()\n",
    "    final_resampler.SetReferenceImage(fixed_image_sitk)\n",
    "    final_resampler.SetInterpolator(sitk.sitkLinear)\n",
    "    final_resampler.SetTransform(final_transform)\n",
    "    final_resampler.SetDefaultPixelValue(0)\n",
    "    final_refined_image_sitk = final_resampler.Execute(transformed_ms_image_sitk)\n",
    "    final_refined_image = sitk.GetArrayFromImage(final_refined_image_sitk)\n",
    "\n",
    "    plt.figure(figsize=(12, 6))\n",
    "    plt.subplot(1, 3, 1)\n",
    "    plt.title('Fixed Image')\n",
    "    plt.imshow(sized_he_image, cmap='gray')\n",
    "\n",
    "    plt.subplot(1, 3, 2)\n",
    "    plt.title('Affine Transformed Image')\n",
    "    plt.imshow(transformed_ms_image, cmap='gray')\n",
    "\n",
    "    plt.subplot(1, 3, 3)\n",
    "    plt.title('B-Spline Refined Image')\n",
    "    plt.imshow(final_refined_image, cmap='gray')\n",
    "\n",
    "    plt.show()\n",
    "    \n",
    "    return final_transform\n"
   ]
  },
  {
   "cell_type": "code",
   "execution_count": null,
   "id": "680de495-3845-4f78-aa8e-6671c31a2d22",
   "metadata": {},
   "outputs": [],
   "source": [
    "\n"
   ]
  }
 ],
 "metadata": {
  "kernelspec": {
   "display_name": "Python 3 (ipykernel)",
   "language": "python",
   "name": "python3"
  },
  "language_info": {
   "codemirror_mode": {
    "name": "ipython",
    "version": 3
   },
   "file_extension": ".py",
   "mimetype": "text/x-python",
   "name": "python",
   "nbconvert_exporter": "python",
   "pygments_lexer": "ipython3",
   "version": "3.9.17"
  },
  "widgets": {
   "application/vnd.jupyter.widget-state+json": {
    "state": {},
    "version_major": 2,
    "version_minor": 0
   }
  }
 },
 "nbformat": 4,
 "nbformat_minor": 5
}
