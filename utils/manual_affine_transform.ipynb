{
 "cells": [
  {
   "cell_type": "code",
   "execution_count": null,
   "id": "791fdb42-2541-4cb4-8754-3e96e5001e99",
   "metadata": {},
   "outputs": [],
   "source": [
    "import cv2\n",
    "import matplotlib.pyplot as plt\n",
    "\n",
    "def manual_register_he_msi(pts_ms, pts_he,resized_msi_image,cropped_image,output_directory,sample_name):\n",
    "    # Compute the affine transformation matrix\n",
    "    M, inliers = cv2.estimateAffinePartial2D(pts_ms, pts_he)\n",
    "    # Assume ms_image and he_image are your numpy arrays representing the images\n",
    "    transformed_ms_image = cv2.warpAffine(resized_msi_image, M, (cropped_image.shape[1], cropped_image.shape[0]))\n",
    "\n",
    "    # Create a figure with three subplots side by side\n",
    "    fig, axes = plt.subplots(1, 3, figsize=(18, 6))\n",
    "\n",
    "    # First panel: Cropped, smoothed H&E image\n",
    "    axes[0].imshow(cropped_image, cmap='gray')\n",
    "    axes[0].set_title('Cropped, smoothed H&E image')\n",
    "    axes[0].axis('off')  # Hide the axes\n",
    "\n",
    "    # Second panel: Interpolated MSI image\n",
    "    axes[1].imshow(resized_msi_image, cmap='gray')\n",
    "    axes[1].set_title('Interpolated MSI image')\n",
    "    axes[1].axis('off')  # Hide the axes\n",
    "\n",
    "    # Third panel: Transformed image\n",
    "    axes[2].imshow(transformed_ms_image, cmap='gray')\n",
    "    axes[2].set_title('Transformed image')\n",
    "    axes[2].axis('off')  # Hide the axes\n",
    "    plt.show()\n",
    "    \n",
    "    fig_outpath = output_directory + '\\\\' + sample_name + '_manual_affine_transformed_MSI.png'\n",
    "    plt.savefig(fig_outpath,bbox_inches='tight')\n",
    "\n",
    "    transformed_ms_image = transformed_ms_image.astype(cropped_image.dtype)\n",
    "    \n",
    "    return M,transformed_ms_image"
   ]
  }
 ],
 "metadata": {
  "kernelspec": {
   "display_name": "Python 3 (ipykernel)",
   "language": "python",
   "name": "python3"
  },
  "language_info": {
   "codemirror_mode": {
    "name": "ipython",
    "version": 3
   },
   "file_extension": ".py",
   "mimetype": "text/x-python",
   "name": "python",
   "nbconvert_exporter": "python",
   "pygments_lexer": "ipython3",
   "version": "3.9.17"
  },
  "widgets": {
   "application/vnd.jupyter.widget-state+json": {
    "state": {},
    "version_major": 2,
    "version_minor": 0
   }
  }
 },
 "nbformat": 4,
 "nbformat_minor": 5
}
